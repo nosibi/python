{
 "cells": [
  {
   "cell_type": "code",
   "execution_count": 1,
   "metadata": {},
   "outputs": [
    {
     "name": "stdout",
     "output_type": "stream",
     "text": [
      "그녀는 내 인생에서 나갔다\n",
      "나는 틀렸다. 나는 너무 비난했다.\n",
      "나는 그녀의 사랑 없이는 살 수 없습니다\n",
      "내 인생에서\n",
      "빈 공간이 있습니다\n",
      "내 모든 꿈이 잃어 버렸어 나는 낭비하고있다\n",
      "나를 용서하십시오\n",
      "레이디 당신은 나를 구하지 않겠습니까?\n",
      "내 마음은 당신에 속하는\n",
      "레이디 당신은 나를 용서할 수 있습니까?\n",
      "내가 당신에게 한 모든 일에 대해?\n",
      "레이디 오 아가씨\n",
      "그녀는 내 인생에서 나갔다\n",
      "오, 그녀는 갔다\n",
      "계속하기가 너무 어렵다는 것을 알았습니다\n",
      "나는 그 여자가 정말 그리워 내 사랑\n",
      "내 팔로 돌아와\n",
      "난 너무 혼자가 널 구걸하고 있어요\n",
      "나는 무릎을 꿇고있다\n",
      "나를 용서하십시오\n",
      "레이디 당신은 나를 구하지 않겠습니까?\n",
      "내 마음은 당신에 속하는\n",
      "레이디 당신은 나를 용서할 수 있습니까?\n",
      "내가 당신에게 한 모든 일에 대해?\n",
      "아가씨 오 오 레이디\n",
      "레이디 당신은 나를 구하지 않겠습니까?\n",
      "내 마음은 당신에 속하는\n",
      "레이디 당신은 나를 용서할 수 있습니까?\n",
      "내가 당신에게 한 모든 일에 대해?\n",
      "레이디 오 아가씨\n",
      "내 마음은 당신에 속하는\n",
      "아가씨 나를 용서할 수 있습니까?\n",
      "내가 당신에게 한 모든 일에 대해\n"
     ]
    }
   ],
   "source": [
    "#번역 내용을 새 파일로 저장\n",
    "from os import linesep\n",
    "import googletrans\n",
    "\n",
    "translator = googletrans.Translator()\n",
    "\n",
    "read_file_path = r\"C:\\Python\\project\\translate\\she's_gone.txt\"\n",
    "write_file_path = r\"C:\\Python\\project\\translate\\korea.txt\"\n",
    "\n",
    "with open(read_file_path,'r') as f:\n",
    "    readlines = f.readlines()\n",
    "    \n",
    "    for line in readlines:\n",
    "        result1 = translator.translate(line, dest = 'ko')\n",
    "        print(result1.text)\n",
    "        \n",
    "        with open(write_file_path,'a', encoding='UTF8') as p:\n",
    "            p.write(result1.text + '\\n')"
   ]
  }
 ],
 "metadata": {
  "kernelspec": {
   "display_name": "base",
   "language": "python",
   "name": "python3"
  },
  "language_info": {
   "codemirror_mode": {
    "name": "ipython",
    "version": 3
   },
   "file_extension": ".py",
   "mimetype": "text/x-python",
   "name": "python",
   "nbconvert_exporter": "python",
   "pygments_lexer": "ipython3",
   "version": "3.10.9"
  },
  "orig_nbformat": 4
 },
 "nbformat": 4,
 "nbformat_minor": 2
}
