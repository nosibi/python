{
 "cells": [
  {
   "cell_type": "code",
   "execution_count": 1,
   "metadata": {},
   "outputs": [
    {
     "name": "stdout",
     "output_type": "stream",
     "text": [
      "행복하세요 -> be happy\n",
      "I am not happy -> 행복 행복\n"
     ]
    }
   ],
   "source": [
    "#pip install googletrans==4.0.0-rc1\n",
    "import googletrans\n",
    "\n",
    "translator = googletrans.Translator()\n",
    "\n",
    "str1 = \"행복하세요\"\n",
    "result1 = translator.translate(str1, dest = 'en', src = 'auto')\n",
    "print(f'행복하세요 -> {result1.text}')\n",
    "\n",
    "str2 = \"I am not happy\"\n",
    "result2 = translator.translate(str1, dest = 'ko', src = 'en')\n",
    "print(f'I am not happy -> {result2.text}')\n"
   ]
  }
 ],
 "metadata": {
  "kernelspec": {
   "display_name": "base",
   "language": "python",
   "name": "python3"
  },
  "language_info": {
   "codemirror_mode": {
    "name": "ipython",
    "version": 3
   },
   "file_extension": ".py",
   "mimetype": "text/x-python",
   "name": "python",
   "nbconvert_exporter": "python",
   "pygments_lexer": "ipython3",
   "version": "3.10.9"
  },
  "orig_nbformat": 4
 },
 "nbformat": 4,
 "nbformat_minor": 2
}
