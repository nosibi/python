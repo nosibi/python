{
 "cells": [
  {
   "cell_type": "code",
   "execution_count": null,
   "metadata": {},
   "outputs": [],
   "source": [
    "import pyautogui\n",
    "import time\n",
    "import pyperclip #pyautogui는 한들이 적용이 안되므로 pyperclip 모듈을 통해 한글 복사 후 입력\n",
    "\n",
    "# write()\n",
    "pyautogui.write(\"Hello world\", interval=0.2)\n",
    "\n",
    "pyperclip.copy(\"안녕하세요\")\n",
    "\n",
    "# write함수로는 shift, ctrl 등 문자가 아닌 키 입력 불가\n",
    "\n",
    "# press(), keyDown(), keyUp()\n",
    "pyautogui.press('shift')\n",
    "pyautogui.press('ctrl')\n",
    "# press는 keyDown,keyUp을 같이 쓴 것\n",
    "# keyDown은 키를 누른 채로, keyUp은 누른 키를 뗀 것\n",
    "\n",
    "pyautogui.keyDown('ctrl')\n",
    "pyautogui.press('c')\n",
    "pyautogui.keyUp('ctrl')\n",
    "\n",
    "# 키를 여러번 입력 할 경우\n",
    "pyautogui.press(['left','left','left'])\n",
    "pyautogui.press('left',presses=3)\n",
    "pyautogui.press('left',presses=3,interval=3)\n",
    "\n",
    "# 여러 키를 동시에 입력해야 할 경우\n",
    "# ctrl + c -> ctrl + v\n",
    "pyautogui.keyDown('ctrl')\n",
    "pyautogui.press('c')\n",
    "pyautogui.keyUp('ctrl')\n",
    "pyautogui.keyDown('ctrl')\n",
    "pyautogui.press('v')\n",
    "pyautogui.keyUp('ctrl')\n",
    "\n",
    "# hotkey()를 이용하면 간단하게 사용 가능\n",
    "pyautogui.hotkey('ctrl','c')\n",
    "pyautogui.hotkey('ctrl','v')\n"
   ]
  }
 ],
 "metadata": {
  "language_info": {
   "name": "python"
  },
  "orig_nbformat": 4
 },
 "nbformat": 4,
 "nbformat_minor": 2
}
