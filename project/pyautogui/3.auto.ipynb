{
 "cells": [
  {
   "cell_type": "code",
   "execution_count": 2,
   "metadata": {},
   "outputs": [],
   "source": [
    "# 네이버에서 자동으로 서울 날씨 검색\n",
    "import pyautogui\n",
    "import time\n",
    "import pyperclip\n",
    "\n",
    "pyautogui.moveTo(1371,196,0.2)\n",
    "pyautogui.click()\n",
    "time.sleep(0.5)\n",
    "\n",
    "pyperclip.copy(\"서울 날씨\")\n",
    "pyautogui.hotkey(\"ctrl\",\"v\")\n",
    "time.sleep(0.5)\n",
    "\n",
    "pyautogui.write([\"enter\"])\n",
    "time.sleep(1)"
   ]
  }
 ],
 "metadata": {
  "kernelspec": {
   "display_name": "base",
   "language": "python",
   "name": "python3"
  },
  "language_info": {
   "codemirror_mode": {
    "name": "ipython",
    "version": 3
   },
   "file_extension": ".py",
   "mimetype": "text/x-python",
   "name": "python",
   "nbconvert_exporter": "python",
   "pygments_lexer": "ipython3",
   "version": "3.10.9"
  },
  "orig_nbformat": 4
 },
 "nbformat": 4,
 "nbformat_minor": 2
}
