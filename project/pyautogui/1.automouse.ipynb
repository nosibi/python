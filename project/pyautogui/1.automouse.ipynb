{
 "cells": [
  {
   "cell_type": "code",
   "execution_count": 10,
   "metadata": {},
   "outputs": [],
   "source": [
    "#pip install pyautogui\n",
    "import pyautogui\n",
    "import time\n",
    "\n",
    "# 마우스의 현재위치를 좌표로 나타냄\n",
    "# while True:\n",
    "#     print(pyautogui.position())\n",
    "#     time.sleep(0.1)\n",
    "    \n",
    "# 화면 크기 출력\n",
    "#print(pyautogui.size())\n",
    "\n",
    "# 마우스 이동\n",
    "#pyautogui.moveTo(100,200)\n",
    "# pyautogui.moveTo(100,200,2) # 2초 동안 이동\n",
    "\n",
    "# 마우스 클릭\n",
    "#pyautogui.click()\n",
    "# pyautogui.click(button = 'right') # 우클릭\n",
    "# pyautogui.doubleClick() # 더블 클릭\n",
    "# pyautogui.click(click=3, interval=1) # 1초마다 3번클릭\n",
    "\n",
    "# 마우스 드래그(816,81 -> 539,80으로 드래그)\n",
    "#pyautogui.moveTo(816,81, 2)\n",
    "#pyautogui.dragTo(539,80, 2)\n",
    "\n",
    "# 예시\n",
    "pyautogui.position()\n",
    "pyautogui.moveTo(1071,464,2)\n",
    "pyautogui.click()\n",
    "pyautogui.moveTo(1252,311,2)\n",
    "pyautogui.dragTo(1627,728,2)\n",
    "pyautogui.click(button='right')\n",
    "\n",
    "\n",
    "    "
   ]
  }
 ],
 "metadata": {
  "kernelspec": {
   "display_name": "base",
   "language": "python",
   "name": "python3"
  },
  "language_info": {
   "codemirror_mode": {
    "name": "ipython",
    "version": 3
   },
   "file_extension": ".py",
   "mimetype": "text/x-python",
   "name": "python",
   "nbconvert_exporter": "python",
   "pygments_lexer": "ipython3",
   "version": "3.10.9"
  },
  "orig_nbformat": 4
 },
 "nbformat": 4,
 "nbformat_minor": 2
}
