{
 "cells": [
  {
   "cell_type": "code",
   "execution_count": 9,
   "metadata": {},
   "outputs": [],
   "source": [
    "# 여러 지역 날씨 \n",
    "import pyautogui\n",
    "import time\n",
    "import pyperclip\n",
    "\n",
    "\n",
    "weather = [\"서울 날씨\",\"인천 날씨\",\"부산 날씨\"]\n",
    "\n",
    "addr_x = 254\n",
    "addr_y = 54\n",
    "start_x = 376\n",
    "start_y = 215\n",
    "end_x = 1085\n",
    "end_y = 887\n",
    "\n",
    "\n",
    "pyautogui.moveTo(addr_x,addr_y,2)\n",
    "pyautogui.click()\n",
    "pyperclip.copy(\"www.naver.com\")\n",
    "pyautogui.hotkey('ctrl','v')\n",
    "pyautogui.press('enter')\n",
    "\n",
    "time.sleep(2)\n",
    "\n",
    "\n",
    "for i in weather:\n",
    "    pyperclip.copy(i)\n",
    "    pyautogui.hotkey('ctrl','v')\n",
    "    pyautogui.press('enter')\n",
    "    time.sleep(2)\n",
    "    \n",
    "    save_path = \"C:\\\\Python\\\\project\\\\pyautogui\\\\\" + i + \".png\"\n",
    "    pyautogui.screenshot(save_path, region = (start_x, start_y, end_x-start_x, end_y-start_y))\n",
    "    pyautogui.moveTo(447,112,2)\n",
    "    pyautogui.click()\n",
    "    pyautogui.press('delete',5)\n",
    "    "
   ]
  }
 ],
 "metadata": {
  "kernelspec": {
   "display_name": "base",
   "language": "python",
   "name": "python3"
  },
  "language_info": {
   "codemirror_mode": {
    "name": "ipython",
    "version": 3
   },
   "file_extension": ".py",
   "mimetype": "text/x-python",
   "name": "python",
   "nbconvert_exporter": "python",
   "pygments_lexer": "ipython3",
   "version": "3.10.9"
  },
  "orig_nbformat": 4
 },
 "nbformat": 4,
 "nbformat_minor": 2
}
