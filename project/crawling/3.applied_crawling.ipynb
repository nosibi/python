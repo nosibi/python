{
 "cells": [
  {
   "cell_type": "code",
   "execution_count": 2,
   "metadata": {},
   "outputs": [
    {
     "ename": "PermissionError",
     "evalue": "[WinError 5] 액세스가 거부되었습니다: 'C:\\\\Users\\\\jeons\\\\.wdm\\\\drivers\\\\chromedriver\\\\win64\\\\115.0.5790.171\\\\chromedriver-win32\\\\chromedriver.exe' -> 'C:\\\\Users\\\\jeons\\\\.wdm\\\\drivers\\\\chromedriver\\\\win64\\\\115.0.5790.171\\\\chromedriver.exe'",
     "output_type": "error",
     "traceback": [
      "\u001b[1;31m---------------------------------------------------------------------------\u001b[0m",
      "\u001b[1;31mPermissionError\u001b[0m                           Traceback (most recent call last)",
      "File \u001b[1;32m~\\AppData\\Roaming\\Python\\Python310\\site-packages\\webdriver_manager\\core\\file_manager.py:65\u001b[0m, in \u001b[0;36mFileManager.__extract_zip\u001b[1;34m(self, archive_file, to_directory)\u001b[0m\n\u001b[0;32m     64\u001b[0m \u001b[39mtry\u001b[39;00m:\n\u001b[1;32m---> 65\u001b[0m     archive\u001b[39m.\u001b[39;49mextractall(to_directory)\n\u001b[0;32m     66\u001b[0m \u001b[39mexcept\u001b[39;00m \u001b[39mException\u001b[39;00m \u001b[39mas\u001b[39;00m e:\n",
      "File \u001b[1;32mc:\\ProgramData\\anaconda3\\lib\\zipfile.py:1645\u001b[0m, in \u001b[0;36mZipFile.extractall\u001b[1;34m(self, path, members, pwd)\u001b[0m\n\u001b[0;32m   1644\u001b[0m \u001b[39mfor\u001b[39;00m zipinfo \u001b[39min\u001b[39;00m members:\n\u001b[1;32m-> 1645\u001b[0m     \u001b[39mself\u001b[39;49m\u001b[39m.\u001b[39;49m_extract_member(zipinfo, path, pwd)\n",
      "File \u001b[1;32mc:\\ProgramData\\anaconda3\\lib\\zipfile.py:1699\u001b[0m, in \u001b[0;36mZipFile._extract_member\u001b[1;34m(self, member, targetpath, pwd)\u001b[0m\n\u001b[0;32m   1696\u001b[0m     \u001b[39mreturn\u001b[39;00m targetpath\n\u001b[0;32m   1698\u001b[0m \u001b[39mwith\u001b[39;00m \u001b[39mself\u001b[39m\u001b[39m.\u001b[39mopen(member, pwd\u001b[39m=\u001b[39mpwd) \u001b[39mas\u001b[39;00m source, \\\n\u001b[1;32m-> 1699\u001b[0m      \u001b[39mopen\u001b[39;49m(targetpath, \u001b[39m\"\u001b[39;49m\u001b[39mwb\u001b[39;49m\u001b[39m\"\u001b[39;49m) \u001b[39mas\u001b[39;00m target:\n\u001b[0;32m   1700\u001b[0m     shutil\u001b[39m.\u001b[39mcopyfileobj(source, target)\n",
      "\u001b[1;31mPermissionError\u001b[0m: [Errno 13] Permission denied: 'C:\\\\Users\\\\jeons\\\\.wdm\\\\drivers\\\\chromedriver\\\\win64\\\\115.0.5790.171\\\\chromedriver-win32\\\\chromedriver.exe'",
      "\nDuring handling of the above exception, another exception occurred:\n",
      "\u001b[1;31mPermissionError\u001b[0m                           Traceback (most recent call last)",
      "Cell \u001b[1;32mIn[2], line 15\u001b[0m\n\u001b[0;32m     12\u001b[0m \u001b[39mimport\u001b[39;00m \u001b[39murllib\u001b[39;00m\u001b[39m.\u001b[39;00m\u001b[39mrequest\u001b[39;00m \u001b[39m#static crawling방식이 URL이 제공되었을 때 이미지를 바로 다운받기 위한 도구\u001b[39;00m\n\u001b[0;32m     14\u001b[0m chrome_options \u001b[39m=\u001b[39m webdriver\u001b[39m.\u001b[39mChromeOptions()\n\u001b[1;32m---> 15\u001b[0m driver \u001b[39m=\u001b[39m webdriver\u001b[39m.\u001b[39mChrome(service \u001b[39m=\u001b[39m Service(ChromeDriverManager()\u001b[39m.\u001b[39;49minstall()),options \u001b[39m=\u001b[39m chrome_options)\n\u001b[0;32m     17\u001b[0m URL \u001b[39m=\u001b[39m \u001b[39m\"\u001b[39m\u001b[39mhttps://www.google.co.kr/imghp\u001b[39m\u001b[39m\"\u001b[39m\n\u001b[0;32m     18\u001b[0m driver\u001b[39m.\u001b[39mget(url \u001b[39m=\u001b[39m URL)\n",
      "File \u001b[1;32m~\\AppData\\Roaming\\Python\\Python310\\site-packages\\webdriver_manager\\chrome.py:40\u001b[0m, in \u001b[0;36mChromeDriverManager.install\u001b[1;34m(self)\u001b[0m\n\u001b[0;32m     39\u001b[0m \u001b[39mdef\u001b[39;00m \u001b[39minstall\u001b[39m(\u001b[39mself\u001b[39m) \u001b[39m-\u001b[39m\u001b[39m>\u001b[39m \u001b[39mstr\u001b[39m:\n\u001b[1;32m---> 40\u001b[0m     driver_path \u001b[39m=\u001b[39m \u001b[39mself\u001b[39;49m\u001b[39m.\u001b[39;49m_get_driver_binary_path(\u001b[39mself\u001b[39;49m\u001b[39m.\u001b[39;49mdriver)\n\u001b[0;32m     41\u001b[0m     os\u001b[39m.\u001b[39mchmod(driver_path, \u001b[39m0o755\u001b[39m)\n\u001b[0;32m     42\u001b[0m     \u001b[39mreturn\u001b[39;00m driver_path\n",
      "File \u001b[1;32m~\\AppData\\Roaming\\Python\\Python310\\site-packages\\webdriver_manager\\core\\manager.py:41\u001b[0m, in \u001b[0;36mDriverManager._get_driver_binary_path\u001b[1;34m(self, driver)\u001b[0m\n\u001b[0;32m     39\u001b[0m os_type \u001b[39m=\u001b[39m \u001b[39mself\u001b[39m\u001b[39m.\u001b[39mget_os_type()\n\u001b[0;32m     40\u001b[0m file \u001b[39m=\u001b[39m \u001b[39mself\u001b[39m\u001b[39m.\u001b[39m_download_manager\u001b[39m.\u001b[39mdownload_file(driver\u001b[39m.\u001b[39mget_driver_download_url(os_type))\n\u001b[1;32m---> 41\u001b[0m binary_path \u001b[39m=\u001b[39m \u001b[39mself\u001b[39;49m\u001b[39m.\u001b[39;49m_cache_manager\u001b[39m.\u001b[39;49msave_file_to_cache(driver, file)\n\u001b[0;32m     42\u001b[0m \u001b[39mreturn\u001b[39;00m binary_path\n",
      "File \u001b[1;32m~\\AppData\\Roaming\\Python\\Python310\\site-packages\\webdriver_manager\\core\\driver_cache.py:54\u001b[0m, in \u001b[0;36mDriverCacheManager.save_file_to_cache\u001b[1;34m(self, driver, file)\u001b[0m\n\u001b[0;32m     52\u001b[0m path \u001b[39m=\u001b[39m \u001b[39mself\u001b[39m\u001b[39m.\u001b[39m__get_path(driver)\n\u001b[0;32m     53\u001b[0m archive \u001b[39m=\u001b[39m \u001b[39mself\u001b[39m\u001b[39m.\u001b[39msave_archive_file(file, path)\n\u001b[1;32m---> 54\u001b[0m files \u001b[39m=\u001b[39m \u001b[39mself\u001b[39;49m\u001b[39m.\u001b[39;49munpack_archive(archive, path)\n\u001b[0;32m     55\u001b[0m binary \u001b[39m=\u001b[39m \u001b[39mself\u001b[39m\u001b[39m.\u001b[39m__get_binary(files, driver\u001b[39m.\u001b[39mget_name())\n\u001b[0;32m     56\u001b[0m binary_path \u001b[39m=\u001b[39m os\u001b[39m.\u001b[39mpath\u001b[39m.\u001b[39mjoin(path, binary)\n",
      "File \u001b[1;32m~\\AppData\\Roaming\\Python\\Python310\\site-packages\\webdriver_manager\\core\\driver_cache.py:49\u001b[0m, in \u001b[0;36mDriverCacheManager.unpack_archive\u001b[1;34m(self, archive, path)\u001b[0m\n\u001b[0;32m     48\u001b[0m \u001b[39mdef\u001b[39;00m \u001b[39munpack_archive\u001b[39m(\u001b[39mself\u001b[39m, archive, path):\n\u001b[1;32m---> 49\u001b[0m     \u001b[39mreturn\u001b[39;00m \u001b[39mself\u001b[39;49m\u001b[39m.\u001b[39;49m_file_manager\u001b[39m.\u001b[39;49munpack_archive(archive, path)\n",
      "File \u001b[1;32m~\\AppData\\Roaming\\Python\\Python310\\site-packages\\webdriver_manager\\core\\file_manager.py:57\u001b[0m, in \u001b[0;36mFileManager.unpack_archive\u001b[1;34m(self, archive_file, target_dir)\u001b[0m\n\u001b[0;32m     55\u001b[0m file_path \u001b[39m=\u001b[39m archive_file\u001b[39m.\u001b[39mfile_path\n\u001b[0;32m     56\u001b[0m \u001b[39mif\u001b[39;00m file_path\u001b[39m.\u001b[39mendswith(\u001b[39m\"\u001b[39m\u001b[39m.zip\u001b[39m\u001b[39m\"\u001b[39m):\n\u001b[1;32m---> 57\u001b[0m     \u001b[39mreturn\u001b[39;00m \u001b[39mself\u001b[39;49m\u001b[39m.\u001b[39;49m__extract_zip(archive_file, target_dir)\n\u001b[0;32m     58\u001b[0m \u001b[39melif\u001b[39;00m file_path\u001b[39m.\u001b[39mendswith(\u001b[39m\"\u001b[39m\u001b[39m.tar.gz\u001b[39m\u001b[39m\"\u001b[39m):\n\u001b[0;32m     59\u001b[0m     \u001b[39mreturn\u001b[39;00m \u001b[39mself\u001b[39m\u001b[39m.\u001b[39m__extract_tar_file(archive_file, target_dir)\n",
      "File \u001b[1;32m~\\AppData\\Roaming\\Python\\Python310\\site-packages\\webdriver_manager\\core\\file_manager.py:81\u001b[0m, in \u001b[0;36mFileManager.__extract_zip\u001b[1;34m(self, archive_file, to_directory)\u001b[0m\n\u001b[0;32m     79\u001b[0m         source \u001b[39m=\u001b[39m os\u001b[39m.\u001b[39mpath\u001b[39m.\u001b[39mjoin(full_file_path, file_name)\n\u001b[0;32m     80\u001b[0m         destination \u001b[39m=\u001b[39m os\u001b[39m.\u001b[39mpath\u001b[39m.\u001b[39mjoin(to_directory, file_name)\n\u001b[1;32m---> 81\u001b[0m         os\u001b[39m.\u001b[39;49mreplace(source, destination)\n\u001b[0;32m     82\u001b[0m         file_names\u001b[39m.\u001b[39mappend(file_name)\n\u001b[0;32m     83\u001b[0m \u001b[39mreturn\u001b[39;00m \u001b[39msorted\u001b[39m(file_names, key\u001b[39m=\u001b[39m\u001b[39mlambda\u001b[39;00m x: x\u001b[39m.\u001b[39mlower())\n",
      "\u001b[1;31mPermissionError\u001b[0m: [WinError 5] 액세스가 거부되었습니다: 'C:\\\\Users\\\\jeons\\\\.wdm\\\\drivers\\\\chromedriver\\\\win64\\\\115.0.5790.171\\\\chromedriver-win32\\\\chromedriver.exe' -> 'C:\\\\Users\\\\jeons\\\\.wdm\\\\drivers\\\\chromedriver\\\\win64\\\\115.0.5790.171\\\\chromedriver.exe'"
     ]
    }
   ],
   "source": [
    "#사용문법 for, if\n",
    "#selenium\n",
    "# 크롤링 후 특정 영역만을 지정하여 저장하기\n",
    "#static - beautifulsoup / dynamic - selenium\n",
    "#fast 보통 개발자들이 사용 / slow but easy \n",
    "from selenium.webdriver.common.keys import Keys #Keys.RETURN\n",
    "import time\n",
    "from selenium import webdriver\n",
    "from webdriver_manager.chrome import ChromeDriverManager  \n",
    "from selenium.webdriver.common.by import By #driver.find_element_by_ID -> driver.find_element(By.ID,) selenium추세\n",
    "from selenium.webdriver.chrome.service import Service \n",
    "import urllib.request #static crawling방식이 URL이 제공되었을 때 이미지를 바로 다운받기 위한 도구\n",
    "\n",
    "chrome_options = webdriver.ChromeOptions()\n",
    "driver = webdriver.Chrome(service = Service(ChromeDriverManager().install()),options = chrome_options)\n",
    "\n",
    "URL = \"https://www.google.co.kr/imghp\"\n",
    "driver.get(url = URL)\n",
    "driver.implicitly_wait(time_to_wait=10) # max 10초 기다린다, time.sleep과 다른개념, 10초 이내로 실행될 수 있으면 실행\n",
    "\n",
    "\n",
    "keyElement = driver.find_element(By.XPATH, '//*[@id=\"APjFqb\"]')\n",
    "keyElement.send_keys(\"worldcup\")\n",
    "keyElement.send_keys(Keys.RETURN)\n",
    "\n",
    "#bodyElement를 정의, driver.find_element 이용, TAG_NAME을 이용하여 body만 찾겠다\n",
    "bodyElement = driver.find_element(By.TAG_NAME, 'Body')\n",
    "time.sleep(5)\n",
    "\n",
    "#0,1,...9까지 0.2초식 스크롤 내리기\n",
    "for i in range(10):\n",
    "    bodyElement.send_keys(Keys.PAGE_DOWN)\n",
    "    time.sleep(0.2)\n",
    "\n",
    "#islrg > div.islrc > div:nth-child(2) > a.wXeWr.islib.nfEiy > div.bRMDJf.islir > img\n",
    "#islrg > div.islrc > div:nth-child(3) > a.wXeWr.islib.nfEiy > div.bRMDJf.islir > img\n",
    "#islrg > div.islrc > div:nth-child(4) > a.wXeWr.islib.nfEiy > div.bRMDJf.islir > img\n",
    "#div:nth-child( )을 div로\n",
    "\n",
    "\n",
    "images = driver.find_elements(By.CSS_SELECTOR, '#islrg > div.islrc > div > a.wXeWr.islib.nfEiy > div.bRMDJf.islir > img')\n",
    "print(len(images))  # range(10)으로 몇개의 이미지를 가지고 올 수 있는지 확인\n",
    "\n",
    "imageURL = []\n",
    "for a in images:\n",
    "    if a.get_attribute('src') is not None:\n",
    "        imageURL.append(a.get_attribute('src'))\n",
    "        \n",
    "#print(imageURL) #이미지 URL을 출력\n",
    "\n",
    "for i, j in enumerate((imageURL)):  # enumerate는 인덱스와 원소로 이루어진 tuple형태로 출력 # i는 0,1,2...시퀀스 j는 원소\n",
    "    urllib.request.urlretrieve(j, 'C:\\\\Python\\\\crawling_images\\\\' + str(i) + '.jpg')\n",
    "    \n",
    "\n"
   ]
  }
 ],
 "metadata": {
  "kernelspec": {
   "display_name": "base",
   "language": "python",
   "name": "python3"
  },
  "language_info": {
   "codemirror_mode": {
    "name": "ipython",
    "version": 3
   },
   "file_extension": ".py",
   "mimetype": "text/x-python",
   "name": "python",
   "nbconvert_exporter": "python",
   "pygments_lexer": "ipython3",
   "version": "3.10.9"
  },
  "orig_nbformat": 4
 },
 "nbformat": 4,
 "nbformat_minor": 2
}
