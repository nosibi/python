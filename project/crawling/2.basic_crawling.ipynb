{
 "cells": [
  {
   "cell_type": "code",
   "execution_count": 2,
   "metadata": {},
   "outputs": [
    {
     "name": "stdout",
     "output_type": "stream",
     "text": [
      "data:image/jpeg;base64,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\n"
     ]
    },
    {
     "data": {
      "text/plain": [
       "('C:\\\\Python\\\\crawling_images\\\\worldcup.img',\n",
       " <email.message.Message at 0x226b6f0da50>)"
      ]
     },
     "execution_count": 2,
     "metadata": {},
     "output_type": "execute_result"
    }
   ],
   "source": [
    "#pip install webdriver-manager selenium\n",
    "# static crawling(fast,bs4) / dynamic crawling(easy,selenium)\n",
    "#dynamic crawling 이용\n",
    "#사용문법은 없음\n",
    "#driver.find_element와 elements의 차이는 찾아내려는 대상이 하나인지 그 이상인지\n",
    "\n",
    "# selector = #islrg > div.islrc > div:nth-child(2) > a.wXeWr.islib.nfEiy > div.bRMDJf.islir > img\n",
    "# search xpath = //*[@id=\"APjFqb\n",
    "\n",
    "from selenium.webdriver.common.keys import Keys #Keys.RETURN\n",
    "import time\n",
    "from selenium import webdriver\n",
    "from webdriver_manager.chrome import ChromeDriverManager  \n",
    "from selenium.webdriver.common.by import By #driver.find_element_by_ID -> driver.find_element(By.ID,) selenium추세\n",
    "from selenium.webdriver.chrome.service import Service \n",
    "import urllib.request #static crawling방식이 URL이 제공되었을 때 이미지를 바로 다운받기 위한 도구\n",
    "\n",
    "chrome_options = webdriver.ChromeOptions()\n",
    "driver = webdriver.Chrome(service = Service(ChromeDriverManager().install()),options = chrome_options)\n",
    "\n",
    "URL = \"https://www.google.co.kr/imghp\"\n",
    "driver.get(url = URL)\n",
    "driver.implicitly_wait(time_to_wait=10) # max 10초 기다린다, time.sleep과 다른개념, 10초 이내로 실행될 수 있으면 실행\n",
    "\n",
    "\n",
    "keyElement = driver.find_element(By.XPATH, '//*[@id=\"APjFqb\"]')\n",
    "keyElement.send_keys(\"worldcup\")\n",
    "keyElement.send_keys(Keys.RETURN)\n",
    "\n",
    "url = driver.find_element(By.CSS_SELECTOR,'#islrg > div.islrc > div:nth-child(2) > a.wXeWr.islib.nfEiy > div.bRMDJf.islir > img').get_attribute('src') #속성값\n",
    "print(url)\n",
    "urllib.request.urlretrieve(url,r'C:\\Python\\crawling_images\\worldcup.img') #URL의 이미지를 다운받아서 저장"
   ]
  }
 ],
 "metadata": {
  "kernelspec": {
   "display_name": "base",
   "language": "python",
   "name": "python3"
  },
  "language_info": {
   "codemirror_mode": {
    "name": "ipython",
    "version": 3
   },
   "file_extension": ".py",
   "mimetype": "text/x-python",
   "name": "python",
   "nbconvert_exporter": "python",
   "pygments_lexer": "ipython3",
   "version": "3.10.9"
  },
  "orig_nbformat": 4
 },
 "nbformat": 4,
 "nbformat_minor": 2
}
