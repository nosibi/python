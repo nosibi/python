{
 "cells": [
  {
   "cell_type": "code",
   "execution_count": 3,
   "metadata": {},
   "outputs": [
    {
     "name": "stdout",
     "output_type": "stream",
     "text": [
      "Hello! I am junior developer who started with python\n",
      "I want to be recruited by IT company after retiring from army\n"
     ]
    }
   ],
   "source": [
    "from gtts import gTTS \n",
    "file_path = r\"C:\\Python\\project\\text_to_voice\\text\"\n",
    "\n",
    "# file_path를 열고 텍스트를 읽고(rt) 인코딩은 한국어(UTF8) 그리고 f로 취급\n",
    "with open(file_path,'rt') as f:\n",
    "    read_file = f.read()\n",
    "    \n",
    "print(read_file)\n",
    "# 텍스트로 출력된다\n",
    "\n",
    "tts = gTTS(text = read_file, lang = 'ko')\n",
    "tts.save(r\"C:\\Python\\project\\text_to_voice\\text.mp3\")\n",
    "\n",
    "# save시 인터넷 연결이 안되어 있으면 라이브러리가 정상적으로 작동되지 않는다"
   ]
  }
 ],
 "metadata": {
  "kernelspec": {
   "display_name": "base",
   "language": "python",
   "name": "python3"
  },
  "language_info": {
   "codemirror_mode": {
    "name": "ipython",
    "version": 3
   },
   "file_extension": ".py",
   "mimetype": "text/x-python",
   "name": "python",
   "nbconvert_exporter": "python",
   "pygments_lexer": "ipython3",
   "version": "3.10.9"
  },
  "orig_nbformat": 4
 },
 "nbformat": 4,
 "nbformat_minor": 2
}
