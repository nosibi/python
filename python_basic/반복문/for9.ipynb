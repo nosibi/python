{
 "cells": [
  {
   "cell_type": "code",
   "execution_count": 6,
   "metadata": {},
   "outputs": [
    {
     "name": "stdout",
     "output_type": "stream",
     "text": [
      "1 2\n",
      "a b\n",
      "3 4\n",
      "c d\n",
      "[1, 2]\n",
      "['a', 'b']\n",
      "[3, 4]\n",
      "['c', 'd']\n"
     ]
    }
   ],
   "source": [
    "# 변수가 2개인 경우\n",
    "list1 = [[1,2],[\"a\",\"b\"],[3,4],[\"c\",\"d\"]]\n",
    "\n",
    "for x,y in list1:\n",
    "    print(x,y)\n",
    "    \n",
    "for i in list1:\n",
    "    print(i)\n",
    "    \n",
    "# 할당 받는 변수의 수에 따라 다르게 출력"
   ]
  }
 ],
 "metadata": {
  "kernelspec": {
   "display_name": "base",
   "language": "python",
   "name": "python3"
  },
  "language_info": {
   "codemirror_mode": {
    "name": "ipython",
    "version": 3
   },
   "file_extension": ".py",
   "mimetype": "text/x-python",
   "name": "python",
   "nbconvert_exporter": "python",
   "pygments_lexer": "ipython3",
   "version": "3.10.9"
  },
  "orig_nbformat": 4
 },
 "nbformat": 4,
 "nbformat_minor": 2
}
