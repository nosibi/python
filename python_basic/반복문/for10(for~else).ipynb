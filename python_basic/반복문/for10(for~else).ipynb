{
 "cells": [
  {
   "cell_type": "code",
   "execution_count": 18,
   "metadata": {},
   "outputs": [
    {
     "name": "stdout",
     "output_type": "stream",
     "text": [
      "0 1 2 3 4 5 6 7 8 9 / for문이 마지막까지 실행됨\n",
      "0 1 2 3 4 5 / for문이 도중에 멈춤\n",
      "num : 첫번째\n",
      "int : 1\n",
      "int : 2\n",
      "int : 두번째\n",
      "int : 4\n",
      "num : 두번째\n",
      "int : 1\n",
      "int : 2\n",
      "int : 두번째\n",
      "안쪽 for문 break\n",
      "바깥 for문 break\n",
      "break -> else -> continue -> break\n"
     ]
    }
   ],
   "source": [
    "# for ~ else 구문\n",
    "\n",
    "# 1\n",
    "for i in range(10):\n",
    "    print(i, end = ' ')\n",
    "else:\n",
    "    print(\"/ for문이 마지막까지 실행됨\")\n",
    "    \n",
    "# 2\n",
    "for a in range(10):\n",
    "    print(a, end = ' ')\n",
    "    if a == 5:\n",
    "        print(\"/ for문이 도중에 멈춤\")\n",
    "        break\n",
    "else:\n",
    "    print(\"/ for문이 마지막까지 실행됨\")\n",
    "\n",
    "# for 문이 마지막까지 끝날 경우 else가 작동함. for문 내 특정조건 break를 걸면 마지막까지 작동x\n",
    "\n",
    "# 3 이중 for 문일 경우\n",
    "num = [\"첫번째\",\"두번째\",\"세번째\",\"네번째\"]\n",
    "int = [1,2,\"두번째\",4]\n",
    "\n",
    "for a,b in enumerate(num):\n",
    "    print(\"num :\",b)\n",
    "    for c,d in enumerate(int):\n",
    "        print(\"int :\",d)\n",
    "        if b == d:\n",
    "            print(\"안쪽 for문 break\")\n",
    "            break\n",
    "    else:\n",
    "        continue\n",
    "    print(\"바깥 for문 break\")\n",
    "    print(\"break -> else -> continue -> break\")\n",
    "    break\n",
    "    \n",
    "# 첫번째 break로 안쪽 for문이 완료(탈출)되어 else가 작동하고 \n",
    "# continue로 인해 계속 작동하면서 print 실행 후 break(바깥쪽)\n"
   ]
  }
 ],
 "metadata": {
  "kernelspec": {
   "display_name": "base",
   "language": "python",
   "name": "python3"
  },
  "language_info": {
   "codemirror_mode": {
    "name": "ipython",
    "version": 3
   },
   "file_extension": ".py",
   "mimetype": "text/x-python",
   "name": "python",
   "nbconvert_exporter": "python",
   "pygments_lexer": "ipython3",
   "version": "3.10.9"
  },
  "orig_nbformat": 4
 },
 "nbformat": 4,
 "nbformat_minor": 2
}
