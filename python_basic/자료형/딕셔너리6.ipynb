{
 "cells": [
  {
   "cell_type": "code",
   "execution_count": 19,
   "metadata": {},
   "outputs": [
    {
     "name": "stdout",
     "output_type": "stream",
     "text": [
      "['name', 'phone', 'birth']\n",
      "name\n",
      "phone\n",
      "birth\n",
      "['pay', '010-8929-2822', '1221']\n",
      "pay\n",
      "010-8929-2822\n",
      "1221\n",
      "{'name': 'pay', 'phone': '010-8929-2822', 'birth': '1221'}\n",
      "d =  {'phone': '010-8929-2822', 'birth': '1221'}\n",
      "True\n",
      "False\n"
     ]
    }
   ],
   "source": [
    "# key 리스트 만들기\n",
    "a = {'name':'pay','phone':'010-8929-2822','birth':'1221'}\n",
    "a.keys()\n",
    "print(list(a.keys()))\n",
    "\n",
    "for i in a.keys():\n",
    "    print(i)\n",
    "\n",
    "# value 리스트 만들기\n",
    "a.values()\n",
    "print(list(a.values()))\n",
    "\n",
    "for k in a.values():\n",
    "    print(k)\n",
    "    \n",
    "# key - value 쌍 얻기 (items)\n",
    "a.items()\n",
    "\n",
    "# key - value 쌍 모두 지우기 (clear)\n",
    "a.clear()\n",
    "a\n",
    "\n",
    "# key 값 제거 (del)\n",
    "d = {'name':'pay','phone':'010-8929-2822','birth':'1221'}\n",
    "print(d)\n",
    "del d['name']\n",
    "print('d = ',d)\n",
    "\n",
    "# key로 value 얻기 (get)\n",
    "b = {'name':'Kim','age':26}\n",
    "b['name']\n",
    "b.get('name')\n",
    "\n",
    "#b['address'] # 존재하지 않는 key로 value값 호출 시 오류 발생\n",
    "b.get('address') # None을 return함, 오류가 발생하지 않는다\n",
    "\n",
    "# 해당 key가 딕셔너리 안에 있는지 확인\n",
    "c = {'name':'Lee','age':30,'address':'seoul'}\n",
    "print('name' in c)\n",
    "print('weight' in c)"
   ]
  }
 ],
 "metadata": {
  "kernelspec": {
   "display_name": "base",
   "language": "python",
   "name": "python3"
  },
  "language_info": {
   "codemirror_mode": {
    "name": "ipython",
    "version": 3
   },
   "file_extension": ".py",
   "mimetype": "text/x-python",
   "name": "python",
   "nbconvert_exporter": "python",
   "pygments_lexer": "ipython3",
   "version": "3.10.9"
  },
  "orig_nbformat": 4
 },
 "nbformat": 4,
 "nbformat_minor": 2
}
