{
 "cells": [
  {
   "cell_type": "markdown",
   "metadata": {},
   "source": [
    "# collections 모듈의 counter 클래스\n",
    "컨테이너 안의 데이터의 갯수를 편리하고 빠르게 셀 수 있도록 지원하는 계수기 도구"
   ]
  },
  {
   "cell_type": "code",
   "execution_count": null,
   "metadata": {},
   "outputs": [],
   "source": [
    "# List\n",
    "import collections\n",
    "ex_list = ['kim','kim','kim','lee','lee','park']\n",
    "ex_counter = collections.Counter(ex_list)\n",
    "print(ex_counter)"
   ]
  },
  {
   "cell_type": "code",
   "execution_count": null,
   "metadata": {},
   "outputs": [],
   "source": [
    "# Dictionary\n",
    "import collections\n",
    "ex_dic = {'kim':3, 'lee':2, 'part':1}\n",
    "ex_counter = collections.Counter(ex_dic)\n",
    "print(ex_counter)"
   ]
  },
  {
   "cell_type": "code",
   "execution_count": null,
   "metadata": {},
   "outputs": [],
   "source": [
    "# 값 = 개수\n",
    "import collections\n",
    "ex_counter = collections.Counter(kim = 3, lee = 2, park = 1)\n",
    "print(ex_counter)\n",
    "\n",
    "print(sorted(ex_counter.elements()))\n"
   ]
  },
  {
   "cell_type": "code",
   "execution_count": null,
   "metadata": {},
   "outputs": [],
   "source": [
    "# String\n",
    "import collections\n",
    "ex_counter = collections.Counter()\n",
    "ex_counter.update('AAABBC')\n",
    "print(ex_counter)\n",
    "\n",
    "for key, value in ex_counter.items():\n",
    "    print(key,'가 ',value,'개 있음')"
   ]
  },
  {
   "cell_type": "code",
   "execution_count": null,
   "metadata": {},
   "outputs": [],
   "source": [
    "# elements() - 단순히 요소를 풀어서 출력, 대소문자 구분\n",
    "import collections\n",
    "\n",
    "ex_counter = collections.Counter('I want to retire')\n",
    "print(list(ex_counter.elements())) \n",
    "\n",
    "print(sorted(ex_counter.elements())) # sorted로 오름차순 정렬\n"
   ]
  },
  {
   "cell_type": "code",
   "execution_count": null,
   "metadata": {},
   "outputs": [],
   "source": [
    "# most_common(n) : 입력된 값의 요소들 중 최빈값 상위 n개를 반환, 결과값은 tuple 형태\n",
    "import collections\n",
    "\n",
    "ex_counter = collections.Counter('I want to retire')\n",
    "print(ex_counter)\n",
    "print(ex_counter.most_common(2))\n"
   ]
  },
  {
   "cell_type": "code",
   "execution_count": null,
   "metadata": {},
   "outputs": [],
   "source": [
    "# subtract : 요소끼리 뺄셈. 요소가 없을 시 음수를 반환\n",
    "import collections\n",
    "\n",
    "ex_counter1 = collections.Counter('I want to retire')\n",
    "ex_counter2 = collections.Counter('I aint worry')\n",
    "print(ex_counter1)\n",
    "print(ex_counter2)\n",
    "\n",
    "ex_counter1.subtract(ex_counter2) # ex_counter1 - ex_counter2\n",
    "\n",
    "print(ex_counter1)"
   ]
  },
  {
   "cell_type": "code",
   "execution_count": null,
   "metadata": {},
   "outputs": [],
   "source": [
    "# 연산\n",
    "import collections\n",
    "\n",
    "ex_counter1 = collections.Counter('AAABBC')\n",
    "ex_counter2 = collections.Counter('AAB')\n",
    "print(ex_counter1)\n",
    "print(ex_counter2)\n",
    "\n",
    "print(ex_counter1 + ex_counter2)\n",
    "print(ex_counter1 - ex_counter2) # subtract과 달리 음수를 반환하지 않는다"
   ]
  },
  {
   "cell_type": "code",
   "execution_count": 15,
   "metadata": {},
   "outputs": [
    {
     "name": "stdout",
     "output_type": "stream",
     "text": [
      "Counter({'A': 3, 'B': 2, 'C': 1})\n",
      "Counter({'A': 2, 'B': 1})\n",
      "Counter({'A': 2, 'B': 1})\n",
      "Counter({'A': 3, 'B': 2, 'C': 1})\n"
     ]
    }
   ],
   "source": [
    "# 교집합, 합집합\n",
    "import collections\n",
    "\n",
    "ex_counter1 = collections.Counter('AAABBC')\n",
    "ex_counter2 = collections.Counter('AAB')\n",
    "print(ex_counter1)\n",
    "print(ex_counter2)\n",
    "\n",
    "print(ex_counter1 & ex_counter2) # 교집합\n",
    "print(ex_counter1 | ex_counter2) # 합집합"
   ]
  }
 ],
 "metadata": {
  "kernelspec": {
   "display_name": "base",
   "language": "python",
   "name": "python3"
  },
  "language_info": {
   "codemirror_mode": {
    "name": "ipython",
    "version": 3
   },
   "file_extension": ".py",
   "mimetype": "text/x-python",
   "name": "python",
   "nbconvert_exporter": "python",
   "pygments_lexer": "ipython3",
   "version": "3.10.9"
  },
  "orig_nbformat": 4
 },
 "nbformat": 4,
 "nbformat_minor": 2
}
