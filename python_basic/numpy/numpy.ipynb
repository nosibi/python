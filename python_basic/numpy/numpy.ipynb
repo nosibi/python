{
 "cells": [
  {
   "cell_type": "code",
   "execution_count": null,
   "metadata": {},
   "outputs": [],
   "source": [
    "import numpy as np\n",
    "x = np.array([1.0,2.0,3.0])\n",
    "print(x)\n",
    "type(x)"
   ]
  },
  {
   "cell_type": "markdown",
   "metadata": {},
   "source": [
    "### numpy 산술연산"
   ]
  },
  {
   "cell_type": "code",
   "execution_count": null,
   "metadata": {},
   "outputs": [],
   "source": [
    "x = np.array([1.0,2.0,3.0])\n",
    "y = np.array([2.0,4.0,6.0])\n",
    "\n",
    "print(x + y)\n",
    "print(x - y)\n",
    "print(x * y) # 원소 곱(행렬 곱x)\n",
    "print(x / y)\n",
    "\n",
    "# vector와 scalar 연산 가능\n",
    "print(x / 2.0)\n"
   ]
  },
  {
   "cell_type": "markdown",
   "metadata": {},
   "source": [
    "### N차원 배열"
   ]
  },
  {
   "cell_type": "code",
   "execution_count": null,
   "metadata": {},
   "outputs": [],
   "source": [
    "A = np.array([[1,2],[3,4]])\n",
    "print(A)\n",
    "\n",
    "print(A.shape)\n",
    "\n",
    "print(A.dtype)\n",
    "\n",
    "# Matrix 산술연산\n",
    "B = np.array([[3,0],[0,6]])\n",
    "\n",
    "print(A + B)\n",
    "\n",
    "print(A * B) # 원소 곱\n",
    "\n",
    "print(\"A = \",A)\n",
    "print(\"A * 10 = \",A*10) # Matrix와 scalar곱"
   ]
  },
  {
   "cell_type": "markdown",
   "metadata": {},
   "source": [
    "### BroadCast"
   ]
  },
  {
   "cell_type": "code",
   "execution_count": null,
   "metadata": {},
   "outputs": [],
   "source": [
    "A = np.array([[1,2],[3,4]])\n",
    "B = np.array([10,20])\n",
    "\n",
    "A * B  # 2차원 배열 A와 똑같은 형상으로 B = [[10,20],[10,20]] 변형된 후 원소별 연산이 이루어짐(브로드캐스트)"
   ]
  },
  {
   "cell_type": "markdown",
   "metadata": {},
   "source": [
    "### 원소 접근"
   ]
  },
  {
   "cell_type": "code",
   "execution_count": null,
   "metadata": {},
   "outputs": [],
   "source": [
    "x = np.array([[51,55],[14,19],[0,4]])\n",
    "print(x)\n",
    "print(x[0]) # 1번째 vector\n",
    "print(x[0][1]) # 1번째 vector의 2번째 scalar\n",
    "\n",
    "a = x.flatten()\n",
    "print(a) # x를 1차원 배열로 변환(평탄화)\n",
    "\n",
    "print(a[np.array([0,2,4])]) # index가 0,2,4인 원소 열거\n",
    "\n",
    "print(a > 15) # 15보다 큰 원소를 bool형으로 출력\n",
    "\n",
    "a[a > 15]"
   ]
  }
 ],
 "metadata": {
  "kernelspec": {
   "display_name": "base",
   "language": "python",
   "name": "python3"
  },
  "language_info": {
   "codemirror_mode": {
    "name": "ipython",
    "version": 3
   },
   "file_extension": ".py",
   "mimetype": "text/x-python",
   "name": "python",
   "nbconvert_exporter": "python",
   "pygments_lexer": "ipython3",
   "version": "3.10.9"
  },
  "orig_nbformat": 4
 },
 "nbformat": 4,
 "nbformat_minor": 2
}
